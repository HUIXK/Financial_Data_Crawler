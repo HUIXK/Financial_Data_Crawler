{
 "cells": [
  {
   "attachments": {},
   "cell_type": "markdown",
   "metadata": {},
   "source": [
    "## 金十日历查询"
   ]
  },
  {
   "cell_type": "code",
   "execution_count": 1,
   "metadata": {},
   "outputs": [],
   "source": [
    "import datetime\n",
    "import json\n",
    "import os\n",
    "import requests\n",
    "import pandas as pd\n",
    "from datetime import datetime, timedelta"
   ]
  },
  {
   "cell_type": "code",
   "execution_count": null,
   "metadata": {},
   "outputs": [],
   "source": [
    "url = rf'https://cdn-rili.jin10.com/web_data/2023/daily/09/21/economics.json'\n",
    "response = requests.get(url)\n",
    "data = json.loads(response.text)\n",
    "\n",
    "# 国际时间转化为北京时间\n",
    "def trs_time(x):\n",
    "    datetime_object = datetime.strptime(x, '%Y-%m-%dT%H:%M:%S.%fZ')\n",
    "    datetime_object = datetime_object + timedelta(hours=8)  # 转化为北京时间\n",
    "    return datetime_object\n",
    "df_json = pd.DataFrame(data)\n",
    "df_json['pub_time'] = df_json['pub_time'].apply(trs_time)\n",
    "df_json = df_json[['pub_time','actual','consensus','previous','unit','country','name','indicator_id']]\n",
    "df_json[df_json['country'] == '美国']"
   ]
  },
  {
   "attachments": {},
   "cell_type": "markdown",
   "metadata": {},
   "source": [
    "## 金十All_Index字段更新"
   ]
  },
  {
   "cell_type": "code",
   "execution_count": 38,
   "metadata": {},
   "outputs": [],
   "source": [
    "import datetime\n",
    "import json\n",
    "import os\n",
    "import requests\n",
    "import pandas as pd\n",
    "from datetime import datetime, timedelta\n",
    "from sqlalchemy import create_engine\n",
    "from sqlalchemy.orm import sessionmaker\n",
    "\n",
    "# 查询数据库对应表，转化为dataframe\n",
    "def read_db_df(table_name='All_Index'):\n",
    "    engine_params = {\n",
    "        'dialect': 'mssql',\n",
    "        'driver': 'pymssql',\n",
    "        'username': 'sa',\n",
    "        'password': 'Goldriven123',\n",
    "        'host': 'sh1.goldriven.com',\n",
    "        'port': 1433,\n",
    "        'database': 'JINSHI_FCT'\n",
    "    }\n",
    "    \n",
    "    # Create the SQLAlchemy engine\n",
    "    engine = create_engine(\n",
    "        \"{dialect}+{driver}://{username}:{password}@{host}:{port}/{database}?charset=utf8\"\n",
    "        .format(**engine_params))\n",
    "    \n",
    "    # SQL query to get the data from the table\n",
    "    query = f\"SELECT * FROM {table_name};\"  #sql语言查询所有数据\n",
    "    \n",
    "    # Use pandas to read the data from the database into a DataFrame\n",
    "    df = pd.read_sql(query, engine)\n",
    "    return df\n",
    "\n",
    "#将本地添加到数据库\n",
    "def append_df_to_db_2(df,table_name):\n",
    "    engine_params = {\n",
    "        'dialect': 'mssql',\n",
    "        'driver': 'pymssql',\n",
    "        'username': 'sa',\n",
    "        'password': 'Goldriven123',\n",
    "        'host': 'sh1.goldriven.com',\n",
    "        'port': 1433,\n",
    "        'database': 'JINSHI_FCT'\n",
    "    }\n",
    "    engine = create_engine(\n",
    "        \"{dialect}+{driver}://{username}:{password}@{host}:{port}/{database}?charset=utf8\"\n",
    "        .format(**engine_params))\n",
    "    try:\n",
    "        name_1 = '['+table_name+']' if '-' in table_name else table_name\n",
    "        #session = sessionmaker(bind=engine)\n",
    "        with engine.connect() as connection:\n",
    "            delete_query = f\"DROP TABLE {name_1}\"\n",
    "            #delete_query = f\"DELETE FROM {name_1}\"\n",
    "            connection.execute(delete_query)\n",
    "            \n",
    "        df.to_sql(con=engine,name=table_name,if_exists='append',index=False)\n",
    "        print(f\"{table_name} is successfully stored in the database: {engine_params['database']}\")\n",
    "    except:\n",
    "        df.to_sql(con=engine,name=table_name,if_exists='append',index=False)\n",
    "        print(f\"{table_name} is successfully stored in the database: {engine_params['database']}\")"
   ]
  }
 ],
 "metadata": {
  "kernelspec": {
   "display_name": "base",
   "language": "python",
   "name": "python3"
  },
  "language_info": {
   "codemirror_mode": {
    "name": "ipython",
    "version": 3
   },
   "file_extension": ".py",
   "mimetype": "text/x-python",
   "name": "python",
   "nbconvert_exporter": "python",
   "pygments_lexer": "ipython3",
   "version": "3.9.12"
  },
  "orig_nbformat": 4
 },
 "nbformat": 4,
 "nbformat_minor": 2
}
